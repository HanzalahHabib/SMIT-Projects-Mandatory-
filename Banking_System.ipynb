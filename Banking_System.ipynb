{
 "cells": [
  {
   "cell_type": "markdown",
   "id": "c0942bf9",
   "metadata": {},
   "source": [
    "\n",
    "# Banking System Simulation\n",
    "\n",
    "This notebook integrates the entire banking system code and demonstrates its functionalities, including account creation, \n",
    "depositing and withdrawing funds, checking balances, and viewing transaction history.\n"
   ]
  },
  {
   "cell_type": "code",
   "execution_count": 3,
   "id": "8a2db22f",
   "metadata": {},
   "outputs": [],
   "source": [
    "\n",
    "import os\n",
    "import csv\n",
    "import random\n",
    "\n",
    "def load_user_data(file_name=\"transactions.csv\"):\n",
    "    \"\"\"Load user transaction data from a file.\"\"\"\n",
    "    users_data = {}\n",
    "    try:\n",
    "        if os.path.exists(file_name):\n",
    "            with open(file_name, \"r\") as file:\n",
    "                reader = csv.DictReader(file)\n",
    "                for row in reader:\n",
    "                    name = row[\"name\"]\n",
    "                    users_data[name] = {\n",
    "                        \"pin\": int(row[\"pin\"]),\n",
    "                        \"balance\": float(row[\"balance\"]),\n",
    "                        \"transactions\": eval(row[\"transactions\"]),\n",
    "                    }\n",
    "    except (OSError, IOError, KeyError, ValueError):\n",
    "        print(\"Oops, something went wrong while loading the transaction file. Using default data.\")\n",
    "    return users_data\n",
    "\n",
    "def save_user_data(users_data, file_name=\"transactions.csv\"):\n",
    "    \"\"\"Save the current user data to a file.\"\"\"\n",
    "    try:\n",
    "        with open(file_name, \"w\", newline=\"\") as file:\n",
    "            fieldnames = [\"name\", \"pin\", \"balance\", \"transactions\"]\n",
    "            writer = csv.DictWriter(file, fieldnames=fieldnames)\n",
    "            writer.writeheader()\n",
    "            for name, details in users_data.items():\n",
    "                writer.writerow({\n",
    "                    \"name\": name,\n",
    "                    \"pin\": details[\"pin\"],\n",
    "                    \"balance\": details[\"balance\"],\n",
    "                    \"transactions\": details[\"transactions\"],\n",
    "                })\n",
    "    except (OSError, IOError):\n",
    "        print(\"There was an error saving your data. Please try again later.\")\n",
    "\n",
    "# Load all user accounts at the start\n",
    "users_data = load_user_data()\n",
    "\n",
    "def generate_new_pin():\n",
    "    \"\"\"Generate a new unique PIN that isn't already taken.\"\"\"\n",
    "    existing_pins = {details[\"pin\"] for details in users_data.values()}\n",
    "    while True:\n",
    "        pin = random.randint(1000, 9999)\n",
    "        if pin not in existing_pins:\n",
    "            return pin\n",
    "\n",
    "def create_user_account(name):\n",
    "    \"\"\"Create a new user account with a unique PIN.\"\"\"\n",
    "    if name in users_data:\n",
    "        return f\"An account already exists for {name}. Please log in instead.\"\n",
    "    pin = generate_new_pin()\n",
    "    users_data[name] = {\"pin\": pin, \"balance\": 0.0, \"transactions\": []}\n",
    "    save_user_data(users_data)\n",
    "    return f\"Account created for {name} with PIN {pin}. Keep it secure!\"\n",
    "\n",
    "def validate_pin(name, pin):\n",
    "    \"\"\"Verify if the entered PIN matches the one associated with the account.\"\"\"\n",
    "    return users_data[name][\"pin\"] == pin\n",
    "\n",
    "def deposit_funds(name, amount):\n",
    "    \"\"\"Deposit funds into a user's account.\"\"\"\n",
    "    if name not in users_data:\n",
    "        return \"Account not found. Please check the name and try again.\"\n",
    "    if amount <= 0:\n",
    "        return \"Deposit amount must be a positive number.\"\n",
    "    users_data[name][\"balance\"] += amount\n",
    "    users_data[name][\"transactions\"].append({\"type\": \"Deposit\", \"amount\": amount, \"balance\": users_data[name][\"balance\"]})\n",
    "    save_user_data(users_data)\n",
    "    return f\"${amount} has been deposited into your account. Your new balance is: ${users_data[name]['balance']}.\"\n",
    "\n",
    "def withdraw_funds(name, amount):\n",
    "    \"\"\"Withdraw funds from a user's account.\"\"\"\n",
    "    if name not in users_data:\n",
    "        return \"Account not found. Please check the name and try again.\"\n",
    "    if amount <= 0:\n",
    "        return \"Withdrawal amount must be positive.\"\n",
    "    if users_data[name][\"balance\"] < amount:\n",
    "        return \"Insufficient balance for this withdrawal.\"\n",
    "    users_data[name][\"balance\"] -= amount\n",
    "    users_data[name][\"transactions\"].append({\"type\": \"Withdrawal\", \"amount\": amount, \"balance\": users_data[name][\"balance\"]})\n",
    "    save_user_data(users_data)\n",
    "    return f\"${amount} has been withdrawn from your account. Your new balance is: ${users_data[name]['balance']}.\"\n",
    "\n",
    "def check_account_balance(name):\n",
    "    \"\"\"Check the balance of a user's account.\"\"\"\n",
    "    if name not in users_data:\n",
    "        return \"Account not found. Please check the name and try again.\"\n",
    "    return f\"Your current balance is: ${users_data[name]['balance']}.\"\n",
    "\n",
    "def view_account_statement(name):\n",
    "    \"\"\"View the transaction history for a user's account.\"\"\"\n",
    "    if name not in users_data:\n",
    "        return \"Account not found. Please check the name and try again.\"\n",
    "    transactions = users_data[name][\"transactions\"]\n",
    "    if not transactions:\n",
    "        return f\"No transactions available for {name}.\"\n",
    "    statement = [f\"Account statement for {name}:\"]\n",
    "    for transaction in transactions:\n",
    "        statement.append(f\"- {transaction['type']}: ${transaction['amount']}. Balance: ${transaction['balance']}\")\n",
    "    return \"\\n\".join(statement)\n"
   ]
  },
  {
   "cell_type": "markdown",
   "id": "7ea46905",
   "metadata": {},
   "source": [
    "## Create New Account"
   ]
  },
  {
   "cell_type": "code",
   "execution_count": 5,
   "id": "4045c9bc",
   "metadata": {},
   "outputs": [
    {
     "name": "stdout",
     "output_type": "stream",
     "text": [
      "Account created for Alice with PIN 2290. Keep it secure!\n"
     ]
    }
   ],
   "source": [
    "\n",
    "# Create a new user account\n",
    "new_account_name = \"Alice\"\n",
    "print(create_user_account(new_account_name))\n"
   ]
  },
  {
   "cell_type": "markdown",
   "id": "67bd1a3a",
   "metadata": {},
   "source": [
    "## Deposit Funds"
   ]
  },
  {
   "cell_type": "code",
   "execution_count": 7,
   "id": "c71edb86",
   "metadata": {},
   "outputs": [
    {
     "name": "stdout",
     "output_type": "stream",
     "text": [
      "$1000 has been deposited into your account. Your new balance is: $1000.0.\n"
     ]
    }
   ],
   "source": [
    "\n",
    "# Deposit funds into the account\n",
    "print(deposit_funds(new_account_name, 1000))\n"
   ]
  },
  {
   "cell_type": "markdown",
   "id": "9d252e59",
   "metadata": {},
   "source": [
    "## Withdraw Funds"
   ]
  },
  {
   "cell_type": "code",
   "execution_count": 9,
   "id": "23fcf94c",
   "metadata": {},
   "outputs": [
    {
     "name": "stdout",
     "output_type": "stream",
     "text": [
      "$200 has been withdrawn from your account. Your new balance is: $800.0.\n"
     ]
    }
   ],
   "source": [
    "\n",
    "# Withdraw funds from the account\n",
    "print(withdraw_funds(new_account_name, 200))\n"
   ]
  },
  {
   "cell_type": "markdown",
   "id": "082aa8d1",
   "metadata": {},
   "source": [
    "## Check Balance"
   ]
  },
  {
   "cell_type": "code",
   "execution_count": 11,
   "id": "196e7d7e",
   "metadata": {},
   "outputs": [
    {
     "name": "stdout",
     "output_type": "stream",
     "text": [
      "Your current balance is: $800.0.\n"
     ]
    }
   ],
   "source": [
    "\n",
    "# Check the account balance\n",
    "print(check_account_balance(new_account_name))\n"
   ]
  },
  {
   "cell_type": "markdown",
   "id": "7bf68426",
   "metadata": {},
   "source": [
    "## View Account Statement"
   ]
  },
  {
   "cell_type": "code",
   "execution_count": 13,
   "id": "09eba9db",
   "metadata": {},
   "outputs": [
    {
     "name": "stdout",
     "output_type": "stream",
     "text": [
      "Account statement for Alice:\n",
      "- Deposit: $1000. Balance: $1000.0\n",
      "- Withdrawal: $200. Balance: $800.0\n"
     ]
    }
   ],
   "source": [
    "\n",
    "# View the account statement\n",
    "print(view_account_statement(new_account_name))\n"
   ]
  }
 ],
 "metadata": {
  "kernelspec": {
   "display_name": "Python 3 (ipykernel)",
   "language": "python",
   "name": "python3"
  },
  "language_info": {
   "codemirror_mode": {
    "name": "ipython",
    "version": 3
   },
   "file_extension": ".py",
   "mimetype": "text/x-python",
   "name": "python",
   "nbconvert_exporter": "python",
   "pygments_lexer": "ipython3",
   "version": "3.12.7"
  }
 },
 "nbformat": 4,
 "nbformat_minor": 5
}
